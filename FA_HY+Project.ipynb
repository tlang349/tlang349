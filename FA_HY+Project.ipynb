{
 "cells": [
  {
   "cell_type": "code",
   "execution_count": 185,
   "metadata": {
    "collapsed": true
   },
   "outputs": [],
   "source": [
    "import os\n",
    "\n",
    "import matplotlib.pyplot as plt\n",
    "import numpy as np\n",
    "import pandas as pd\n",
    "from scipy import stats\n",
    "import seaborn as sns\n",
    "import statsmodels.formula.api as smf\n",
    "\n",
    "%matplotlib inline\n",
    "\n",
    "df = pd.read_csv(\"Z:\\HY_FA Returns_RawData3.csv\")\n"
   ]
  },
  {
   "cell_type": "code",
   "execution_count": 186,
   "metadata": {
    "collapsed": false
   },
   "outputs": [
    {
     "data": {
      "text/html": [
       "<div>\n",
       "<table border=\"1\" class=\"dataframe\">\n",
       "  <thead>\n",
       "    <tr style=\"text-align: right;\">\n",
       "      <th></th>\n",
       "      <th>Date</th>\n",
       "      <th>Class</th>\n",
       "      <th>OAS</th>\n",
       "      <th>WARF</th>\n",
       "      <th>ER_M</th>\n",
       "      <th>Trl_12M_ER</th>\n",
       "    </tr>\n",
       "  </thead>\n",
       "  <tbody>\n",
       "    <tr>\n",
       "      <th>0</th>\n",
       "      <td>6/30/1997</td>\n",
       "      <td>HY</td>\n",
       "      <td>234.191194</td>\n",
       "      <td>2511.954598</td>\n",
       "      <td>0.058436</td>\n",
       "      <td>1.125060</td>\n",
       "    </tr>\n",
       "    <tr>\n",
       "      <th>1</th>\n",
       "      <td>7/31/1997</td>\n",
       "      <td>HY</td>\n",
       "      <td>238.945036</td>\n",
       "      <td>2545.137267</td>\n",
       "      <td>0.625331</td>\n",
       "      <td>-7.875162</td>\n",
       "    </tr>\n",
       "    <tr>\n",
       "      <th>2</th>\n",
       "      <td>8/29/1997</td>\n",
       "      <td>HY</td>\n",
       "      <td>238.492443</td>\n",
       "      <td>2546.640588</td>\n",
       "      <td>0.570790</td>\n",
       "      <td>-11.062994</td>\n",
       "    </tr>\n",
       "    <tr>\n",
       "      <th>3</th>\n",
       "      <td>9/30/1997</td>\n",
       "      <td>HY</td>\n",
       "      <td>229.248058</td>\n",
       "      <td>2566.289024</td>\n",
       "      <td>-1.389888</td>\n",
       "      <td>-11.505770</td>\n",
       "    </tr>\n",
       "    <tr>\n",
       "      <th>4</th>\n",
       "      <td>10/31/1997</td>\n",
       "      <td>HY</td>\n",
       "      <td>234.578430</td>\n",
       "      <td>2547.356658</td>\n",
       "      <td>0.644467</td>\n",
       "      <td>-7.850148</td>\n",
       "    </tr>\n",
       "  </tbody>\n",
       "</table>\n",
       "</div>"
      ],
      "text/plain": [
       "         Date Class         OAS         WARF      ER_M  Trl_12M_ER\n",
       "0   6/30/1997    HY  234.191194  2511.954598  0.058436    1.125060\n",
       "1   7/31/1997    HY  238.945036  2545.137267  0.625331   -7.875162\n",
       "2   8/29/1997    HY  238.492443  2546.640588  0.570790  -11.062994\n",
       "3   9/30/1997    HY  229.248058  2566.289024 -1.389888  -11.505770\n",
       "4  10/31/1997    HY  234.578430  2547.356658  0.644467   -7.850148"
      ]
     },
     "execution_count": 186,
     "metadata": {},
     "output_type": "execute_result"
    }
   ],
   "source": [
    "df.head()"
   ]
  },
  {
   "cell_type": "code",
   "execution_count": 187,
   "metadata": {
    "collapsed": false
   },
   "outputs": [
    {
     "name": "stdout",
     "output_type": "stream",
     "text": [
      "Date\n",
      "Class\n",
      "OAS\n",
      "WARF\n",
      "ER_M\n",
      "Trl_12M_ER\n"
     ]
    }
   ],
   "source": [
    "for x in df.columns.values:\n",
    "    print x"
   ]
  },
  {
   "cell_type": "code",
   "execution_count": 188,
   "metadata": {
    "collapsed": false
   },
   "outputs": [
    {
     "name": "stdout",
     "output_type": "stream",
     "text": [
      "(438, 6)\n",
      "Date           object\n",
      "Class          object\n",
      "OAS           float64\n",
      "WARF          float64\n",
      "ER_M          float64\n",
      "Trl_12M_ER    float64\n",
      "dtype: object\n"
     ]
    },
    {
     "data": {
      "text/html": [
       "<div>\n",
       "<table border=\"1\" class=\"dataframe\">\n",
       "  <thead>\n",
       "    <tr style=\"text-align: right;\">\n",
       "      <th></th>\n",
       "      <th></th>\n",
       "      <th>ER_M</th>\n",
       "      <th>OAS</th>\n",
       "      <th>Trl_12M_ER</th>\n",
       "      <th>WARF</th>\n",
       "    </tr>\n",
       "    <tr>\n",
       "      <th>Class</th>\n",
       "      <th></th>\n",
       "      <th></th>\n",
       "      <th></th>\n",
       "      <th></th>\n",
       "      <th></th>\n",
       "    </tr>\n",
       "  </thead>\n",
       "  <tbody>\n",
       "    <tr>\n",
       "      <th rowspan=\"8\" valign=\"top\">FA</th>\n",
       "      <th>count</th>\n",
       "      <td>219.000000</td>\n",
       "      <td>219.000000</td>\n",
       "      <td>219.000000</td>\n",
       "      <td>219.000000</td>\n",
       "    </tr>\n",
       "    <tr>\n",
       "      <th>mean</th>\n",
       "      <td>0.437741</td>\n",
       "      <td>493.903330</td>\n",
       "      <td>5.940631</td>\n",
       "      <td>2217.051323</td>\n",
       "    </tr>\n",
       "    <tr>\n",
       "      <th>std</th>\n",
       "      <td>3.339246</td>\n",
       "      <td>297.400382</td>\n",
       "      <td>15.415901</td>\n",
       "      <td>564.023888</td>\n",
       "    </tr>\n",
       "    <tr>\n",
       "      <th>min</th>\n",
       "      <td>-16.903170</td>\n",
       "      <td>98.434389</td>\n",
       "      <td>-41.701758</td>\n",
       "      <td>1089.394103</td>\n",
       "    </tr>\n",
       "    <tr>\n",
       "      <th>25%</th>\n",
       "      <td>-0.680348</td>\n",
       "      <td>320.422205</td>\n",
       "      <td>-2.307634</td>\n",
       "      <td>1912.516217</td>\n",
       "    </tr>\n",
       "    <tr>\n",
       "      <th>50%</th>\n",
       "      <td>0.508136</td>\n",
       "      <td>409.539837</td>\n",
       "      <td>5.043336</td>\n",
       "      <td>2149.727154</td>\n",
       "    </tr>\n",
       "    <tr>\n",
       "      <th>75%</th>\n",
       "      <td>1.693797</td>\n",
       "      <td>580.586544</td>\n",
       "      <td>11.016680</td>\n",
       "      <td>2509.625961</td>\n",
       "    </tr>\n",
       "    <tr>\n",
       "      <th>max</th>\n",
       "      <td>14.305583</td>\n",
       "      <td>2168.686985</td>\n",
       "      <td>80.711157</td>\n",
       "      <td>4294.971785</td>\n",
       "    </tr>\n",
       "    <tr>\n",
       "      <th rowspan=\"8\" valign=\"top\">HY</th>\n",
       "      <th>count</th>\n",
       "      <td>219.000000</td>\n",
       "      <td>219.000000</td>\n",
       "      <td>219.000000</td>\n",
       "      <td>219.000000</td>\n",
       "    </tr>\n",
       "    <tr>\n",
       "      <th>mean</th>\n",
       "      <td>0.125911</td>\n",
       "      <td>548.663136</td>\n",
       "      <td>1.918507</td>\n",
       "      <td>2816.609286</td>\n",
       "    </tr>\n",
       "    <tr>\n",
       "      <th>std</th>\n",
       "      <td>3.074964</td>\n",
       "      <td>253.690081</td>\n",
       "      <td>14.036210</td>\n",
       "      <td>194.102819</td>\n",
       "    </tr>\n",
       "    <tr>\n",
       "      <th>min</th>\n",
       "      <td>-16.451129</td>\n",
       "      <td>45.666083</td>\n",
       "      <td>-38.248613</td>\n",
       "      <td>2459.991621</td>\n",
       "    </tr>\n",
       "    <tr>\n",
       "      <th>25%</th>\n",
       "      <td>-0.947605</td>\n",
       "      <td>378.066379</td>\n",
       "      <td>-6.311219</td>\n",
       "      <td>2699.914609</td>\n",
       "    </tr>\n",
       "    <tr>\n",
       "      <th>50%</th>\n",
       "      <td>0.230338</td>\n",
       "      <td>505.259508</td>\n",
       "      <td>1.125060</td>\n",
       "      <td>2785.197795</td>\n",
       "    </tr>\n",
       "    <tr>\n",
       "      <th>75%</th>\n",
       "      <td>1.420485</td>\n",
       "      <td>660.784037</td>\n",
       "      <td>8.914347</td>\n",
       "      <td>2904.073027</td>\n",
       "    </tr>\n",
       "    <tr>\n",
       "      <th>max</th>\n",
       "      <td>12.793891</td>\n",
       "      <td>1801.705926</td>\n",
       "      <td>59.359183</td>\n",
       "      <td>3464.829626</td>\n",
       "    </tr>\n",
       "  </tbody>\n",
       "</table>\n",
       "</div>"
      ],
      "text/plain": [
       "                   ER_M          OAS  Trl_12M_ER         WARF\n",
       "Class                                                        \n",
       "FA    count  219.000000   219.000000  219.000000   219.000000\n",
       "      mean     0.437741   493.903330    5.940631  2217.051323\n",
       "      std      3.339246   297.400382   15.415901   564.023888\n",
       "      min    -16.903170    98.434389  -41.701758  1089.394103\n",
       "      25%     -0.680348   320.422205   -2.307634  1912.516217\n",
       "      50%      0.508136   409.539837    5.043336  2149.727154\n",
       "      75%      1.693797   580.586544   11.016680  2509.625961\n",
       "      max     14.305583  2168.686985   80.711157  4294.971785\n",
       "HY    count  219.000000   219.000000  219.000000   219.000000\n",
       "      mean     0.125911   548.663136    1.918507  2816.609286\n",
       "      std      3.074964   253.690081   14.036210   194.102819\n",
       "      min    -16.451129    45.666083  -38.248613  2459.991621\n",
       "      25%     -0.947605   378.066379   -6.311219  2699.914609\n",
       "      50%      0.230338   505.259508    1.125060  2785.197795\n",
       "      75%      1.420485   660.784037    8.914347  2904.073027\n",
       "      max     12.793891  1801.705926   59.359183  3464.829626"
      ]
     },
     "execution_count": 188,
     "metadata": {},
     "output_type": "execute_result"
    }
   ],
   "source": [
    "print df.shape\n",
    "print df.dtypes\n",
    "df.groupby('Class').describe()"
   ]
  },
  {
   "cell_type": "code",
   "execution_count": 189,
   "metadata": {
    "collapsed": false
   },
   "outputs": [
    {
     "name": "stdout",
     "output_type": "stream",
     "text": [
      "Date           object\n",
      "Class          object\n",
      "OAS           float64\n",
      "WARF          float64\n",
      "ER_M          float64\n",
      "Trl_12M_ER    float64\n",
      "dtype: object\n"
     ]
    }
   ],
   "source": [
    "print df.dtypes"
   ]
  },
  {
   "cell_type": "code",
   "execution_count": 190,
   "metadata": {
    "collapsed": false
   },
   "outputs": [
    {
     "data": {
      "text/html": [
       "<div>\n",
       "<table border=\"1\" class=\"dataframe\">\n",
       "  <thead>\n",
       "    <tr style=\"text-align: right;\">\n",
       "      <th></th>\n",
       "      <th>Date</th>\n",
       "      <th>Class</th>\n",
       "      <th>OAS</th>\n",
       "      <th>WARF</th>\n",
       "      <th>ER_M</th>\n",
       "      <th>Trl_12M_ER</th>\n",
       "    </tr>\n",
       "  </thead>\n",
       "  <tbody>\n",
       "    <tr>\n",
       "      <th>0</th>\n",
       "      <td>6/30/1997</td>\n",
       "      <td>HY</td>\n",
       "      <td>234.191194</td>\n",
       "      <td>2511.954598</td>\n",
       "      <td>0.058436</td>\n",
       "      <td>1.125060</td>\n",
       "    </tr>\n",
       "    <tr>\n",
       "      <th>1</th>\n",
       "      <td>7/31/1997</td>\n",
       "      <td>HY</td>\n",
       "      <td>238.945036</td>\n",
       "      <td>2545.137267</td>\n",
       "      <td>0.625331</td>\n",
       "      <td>-7.875162</td>\n",
       "    </tr>\n",
       "    <tr>\n",
       "      <th>2</th>\n",
       "      <td>8/29/1997</td>\n",
       "      <td>HY</td>\n",
       "      <td>238.492443</td>\n",
       "      <td>2546.640588</td>\n",
       "      <td>0.570790</td>\n",
       "      <td>-11.062994</td>\n",
       "    </tr>\n",
       "    <tr>\n",
       "      <th>3</th>\n",
       "      <td>9/30/1997</td>\n",
       "      <td>HY</td>\n",
       "      <td>229.248058</td>\n",
       "      <td>2566.289024</td>\n",
       "      <td>-1.389888</td>\n",
       "      <td>-11.505770</td>\n",
       "    </tr>\n",
       "    <tr>\n",
       "      <th>4</th>\n",
       "      <td>10/31/1997</td>\n",
       "      <td>HY</td>\n",
       "      <td>234.578430</td>\n",
       "      <td>2547.356658</td>\n",
       "      <td>0.644467</td>\n",
       "      <td>-7.850148</td>\n",
       "    </tr>\n",
       "  </tbody>\n",
       "</table>\n",
       "</div>"
      ],
      "text/plain": [
       "         Date Class         OAS         WARF      ER_M  Trl_12M_ER\n",
       "0   6/30/1997    HY  234.191194  2511.954598  0.058436    1.125060\n",
       "1   7/31/1997    HY  238.945036  2545.137267  0.625331   -7.875162\n",
       "2   8/29/1997    HY  238.492443  2546.640588  0.570790  -11.062994\n",
       "3   9/30/1997    HY  229.248058  2566.289024 -1.389888  -11.505770\n",
       "4  10/31/1997    HY  234.578430  2547.356658  0.644467   -7.850148"
      ]
     },
     "execution_count": 190,
     "metadata": {},
     "output_type": "execute_result"
    }
   ],
   "source": [
    "HY_data=df[df.Class == \"HY\"]\n",
    "\n",
    "HY_data.head()\n"
   ]
  },
  {
   "cell_type": "code",
   "execution_count": 191,
   "metadata": {
    "collapsed": false
   },
   "outputs": [
    {
     "data": {
      "image/png": "[encoded data removed]",
      "text/plain": [
       "<matplotlib.figure.Figure at 0xf346860>"
      ]
     },
     "metadata": {},
     "output_type": "display_data"
    }
   ],
   "source": [
    "HY_data = HY_data[['Trl_12M_ER']].plot()\n"
   ]
  },
  {
   "cell_type": "code",
   "execution_count": 192,
   "metadata": {
    "collapsed": false
   },
   "outputs": [
    {
     "data": {
      "text/html": [
       "<div>\n",
       "<table border=\"1\" class=\"dataframe\">\n",
       "  <thead>\n",
       "    <tr style=\"text-align: right;\">\n",
       "      <th></th>\n",
       "      <th>Date</th>\n",
       "      <th>Class</th>\n",
       "      <th>OAS</th>\n",
       "      <th>WARF</th>\n",
       "      <th>ER_M</th>\n",
       "      <th>Trl_12M_ER</th>\n",
       "    </tr>\n",
       "  </thead>\n",
       "  <tbody>\n",
       "    <tr>\n",
       "      <th>219</th>\n",
       "      <td>6/30/1997</td>\n",
       "      <td>FA</td>\n",
       "      <td>98.434389</td>\n",
       "      <td>1351.702971</td>\n",
       "      <td>-0.090524</td>\n",
       "      <td>1.022413</td>\n",
       "    </tr>\n",
       "    <tr>\n",
       "      <th>220</th>\n",
       "      <td>7/31/1997</td>\n",
       "      <td>FA</td>\n",
       "      <td>108.417683</td>\n",
       "      <td>1133.408090</td>\n",
       "      <td>0.343662</td>\n",
       "      <td>-4.799652</td>\n",
       "    </tr>\n",
       "    <tr>\n",
       "      <th>221</th>\n",
       "      <td>8/29/1997</td>\n",
       "      <td>FA</td>\n",
       "      <td>99.110148</td>\n",
       "      <td>1102.027493</td>\n",
       "      <td>0.106530</td>\n",
       "      <td>-5.212333</td>\n",
       "    </tr>\n",
       "    <tr>\n",
       "      <th>222</th>\n",
       "      <td>9/30/1997</td>\n",
       "      <td>FA</td>\n",
       "      <td>113.476066</td>\n",
       "      <td>1097.996259</td>\n",
       "      <td>-1.105227</td>\n",
       "      <td>-6.800029</td>\n",
       "    </tr>\n",
       "    <tr>\n",
       "      <th>223</th>\n",
       "      <td>10/31/1997</td>\n",
       "      <td>FA</td>\n",
       "      <td>110.344762</td>\n",
       "      <td>1119.201237</td>\n",
       "      <td>-0.049076</td>\n",
       "      <td>-4.357495</td>\n",
       "    </tr>\n",
       "  </tbody>\n",
       "</table>\n",
       "</div>"
      ],
      "text/plain": [
       "           Date Class         OAS         WARF      ER_M  Trl_12M_ER\n",
       "219   6/30/1997    FA   98.434389  1351.702971 -0.090524    1.022413\n",
       "220   7/31/1997    FA  108.417683  1133.408090  0.343662   -4.799652\n",
       "221   8/29/1997    FA   99.110148  1102.027493  0.106530   -5.212333\n",
       "222   9/30/1997    FA  113.476066  1097.996259 -1.105227   -6.800029\n",
       "223  10/31/1997    FA  110.344762  1119.201237 -0.049076   -4.357495"
      ]
     },
     "execution_count": 192,
     "metadata": {},
     "output_type": "execute_result"
    }
   ],
   "source": [
    "FA_data=df[df.Class == \"FA\"]\n",
    "FA_data.head()"
   ]
  },
  {
   "cell_type": "code",
   "execution_count": 193,
   "metadata": {
    "collapsed": false
   },
   "outputs": [
    {
     "data": {
      "image/png": "[encoded data removed]",
      "text/plain": [
       "<matplotlib.figure.Figure at 0xe055c18>"
      ]
     },
     "metadata": {},
     "output_type": "display_data"
    }
   ],
   "source": [
    "FA_data = FA_data[['Trl_12M_ER']].plot()"
   ]
  },
  {
   "cell_type": "code",
   "execution_count": 194,
   "metadata": {
    "collapsed": false
   },
   "outputs": [
    {
     "data": {
      "text/plain": [
       "<matplotlib.axes._subplots.AxesSubplot at 0xf5ebe48>"
      ]
     },
     "execution_count": 194,
     "metadata": {},
     "output_type": "execute_result"
    },
    {
     "data": {
      "image/png": "[encoded data removed]",
      "text/plain": [
       "<matplotlib.figure.Figure at 0xd00e3c8>"
      ]
     },
     "metadata": {},
     "output_type": "display_data"
    }
   ],
   "source": [
    "sns.boxplot(x='Trl_12M_ER', y='Class', data = df)"
   ]
  },
  {
   "cell_type": "code",
   "execution_count": 195,
   "metadata": {
    "collapsed": false
   },
   "outputs": [
    {
     "data": {
      "text/plain": [
       "<matplotlib.axes._subplots.AxesSubplot at 0xf6b2940>"
      ]
     },
     "execution_count": 195,
     "metadata": {},
     "output_type": "execute_result"
    },
    {
     "data": {
      "image/png": "[encoded data removed]",
      "text/plain": [
       "<matplotlib.figure.Figure at 0xf87d3c8>"
      ]
     },
     "metadata": {},
     "output_type": "display_data"
    }
   ],
   "source": [
    "sns.boxplot(x='OAS', y='Class', data = df)"
   ]
  },
  {
   "cell_type": "code",
   "execution_count": 196,
   "metadata": {
    "collapsed": false
   },
   "outputs": [
    {
     "data": {
      "text/plain": [
       "<matplotlib.axes._subplots.AxesSubplot at 0xf93e0f0>"
      ]
     },
     "execution_count": 196,
     "metadata": {},
     "output_type": "execute_result"
    },
    {
     "data": {
      "image/png": "[encoded data removed]",
      "text/plain": [
       "<matplotlib.figure.Figure at 0xca69c18>"
      ]
     },
     "metadata": {},
     "output_type": "display_data"
    }
   ],
   "source": [
    "sns.boxplot(x='WARF', y='Class', data = df)"
   ]
  },
  {
   "cell_type": "code",
   "execution_count": 197,
   "metadata": {
    "collapsed": false
   },
   "outputs": [
    {
     "name": "stdout",
     "output_type": "stream",
     "text": [
      "[['10/31/2007' 'FA' 420.17985580000004 2075.576033 -5.1768292019999995\n",
      "  -41.70175776]\n",
      " ['10/31/2007' 'HY' 415.05156689999995 2767.829508 -5.254006532\n",
      "  -38.24861334]\n",
      " ['11/30/2007' 'HY' 547.5265287000001 2800.603128 0.052708984 -34.78373072]\n",
      " ..., \n",
      " ['1/30/2009' 'FA' 1530.219321 3731.179811 -3.142381195 64.49372115]\n",
      " ['11/26/2008' 'FA' 2168.6869850000003 4027.9994829999996 14.11118967\n",
      "  67.36828964]\n",
      " ['10/31/2008' 'FA' 1606.192987 3234.3377530000002 -16.90316995 80.71115737]]\n"
     ]
    },
    {
     "name": "stderr",
     "output_type": "stream",
     "text": [
      "C:\\Users\\tlang\\AppData\\Local\\Continuum\\Anaconda2\\lib\\site-packages\\ipykernel\\__main__.py:1: FutureWarning: sort(columns=....) is deprecated, use sort_values(by=.....)\n",
      "  if __name__ == '__main__':\n"
     ]
    }
   ],
   "source": [
    "print df.sort('Trl_12M_ER').values"
   ]
  },
  {
   "cell_type": "code",
   "execution_count": 198,
   "metadata": {
    "collapsed": false
   },
   "outputs": [
    {
     "data": {
      "text/plain": [
       "Class\n",
       "FA    5.940631\n",
       "HY    1.918507\n",
       "Name: Trl_12M_ER, dtype: float64"
      ]
     },
     "execution_count": 198,
     "metadata": {},
     "output_type": "execute_result"
    }
   ],
   "source": [
    "df.groupby('Class').Trl_12M_ER.mean()"
   ]
  },
  {
   "cell_type": "code",
   "execution_count": 199,
   "metadata": {
    "collapsed": false
   },
   "outputs": [
    {
     "data": {
      "text/html": [
       "<div>\n",
       "<table border=\"1\" class=\"dataframe\">\n",
       "  <thead>\n",
       "    <tr style=\"text-align: right;\">\n",
       "      <th></th>\n",
       "      <th>OAS</th>\n",
       "      <th>WARF</th>\n",
       "      <th>ER_M</th>\n",
       "      <th>Trl_12M_ER</th>\n",
       "    </tr>\n",
       "    <tr>\n",
       "      <th>Class</th>\n",
       "      <th></th>\n",
       "      <th></th>\n",
       "      <th></th>\n",
       "      <th></th>\n",
       "    </tr>\n",
       "  </thead>\n",
       "  <tbody>\n",
       "    <tr>\n",
       "      <th>FA</th>\n",
       "      <td>493.903330</td>\n",
       "      <td>2217.051323</td>\n",
       "      <td>0.437741</td>\n",
       "      <td>5.940631</td>\n",
       "    </tr>\n",
       "    <tr>\n",
       "      <th>HY</th>\n",
       "      <td>548.663136</td>\n",
       "      <td>2816.609286</td>\n",
       "      <td>0.125911</td>\n",
       "      <td>1.918507</td>\n",
       "    </tr>\n",
       "  </tbody>\n",
       "</table>\n",
       "</div>"
      ],
      "text/plain": [
       "              OAS         WARF      ER_M  Trl_12M_ER\n",
       "Class                                               \n",
       "FA     493.903330  2217.051323  0.437741    5.940631\n",
       "HY     548.663136  2816.609286  0.125911    1.918507"
      ]
     },
     "execution_count": 199,
     "metadata": {},
     "output_type": "execute_result"
    }
   ],
   "source": [
    "df.groupby('Class').mean()"
   ]
  },
  {
   "cell_type": "code",
   "execution_count": 200,
   "metadata": {
    "collapsed": false
   },
   "outputs": [
    {
     "data": {
      "text/html": [
       "<div>\n",
       "<table border=\"1\" class=\"dataframe\">\n",
       "  <thead>\n",
       "    <tr style=\"text-align: right;\">\n",
       "      <th></th>\n",
       "      <th>OAS</th>\n",
       "      <th>WARF</th>\n",
       "      <th>ER_M</th>\n",
       "      <th>Trl_12M_ER</th>\n",
       "    </tr>\n",
       "    <tr>\n",
       "      <th>Class</th>\n",
       "      <th></th>\n",
       "      <th></th>\n",
       "      <th></th>\n",
       "      <th></th>\n",
       "    </tr>\n",
       "  </thead>\n",
       "  <tbody>\n",
       "    <tr>\n",
       "      <th>FA</th>\n",
       "      <td>409.539837</td>\n",
       "      <td>2149.727154</td>\n",
       "      <td>0.508136</td>\n",
       "      <td>5.043336</td>\n",
       "    </tr>\n",
       "    <tr>\n",
       "      <th>HY</th>\n",
       "      <td>505.259508</td>\n",
       "      <td>2785.197795</td>\n",
       "      <td>0.230338</td>\n",
       "      <td>1.125060</td>\n",
       "    </tr>\n",
       "  </tbody>\n",
       "</table>\n",
       "</div>"
      ],
      "text/plain": [
       "              OAS         WARF      ER_M  Trl_12M_ER\n",
       "Class                                               \n",
       "FA     409.539837  2149.727154  0.508136    5.043336\n",
       "HY     505.259508  2785.197795  0.230338    1.125060"
      ]
     },
     "execution_count": 200,
     "metadata": {},
     "output_type": "execute_result"
    }
   ],
   "source": [
    "df.groupby('Class').median()"
   ]
  },
  {
   "cell_type": "code",
   "execution_count": 201,
   "metadata": {
    "collapsed": false
   },
   "outputs": [
    {
     "data": {
      "text/html": [
       "<div>\n",
       "<table border=\"1\" class=\"dataframe\">\n",
       "  <thead>\n",
       "    <tr style=\"text-align: right;\">\n",
       "      <th></th>\n",
       "      <th></th>\n",
       "      <th>ER_M</th>\n",
       "      <th>OAS</th>\n",
       "      <th>Trl_12M_ER</th>\n",
       "      <th>WARF</th>\n",
       "    </tr>\n",
       "    <tr>\n",
       "      <th>Class</th>\n",
       "      <th></th>\n",
       "      <th></th>\n",
       "      <th></th>\n",
       "      <th></th>\n",
       "      <th></th>\n",
       "    </tr>\n",
       "  </thead>\n",
       "  <tbody>\n",
       "    <tr>\n",
       "      <th rowspan=\"4\" valign=\"top\">FA</th>\n",
       "      <th>ER_M</th>\n",
       "      <td>1.000000</td>\n",
       "      <td>0.201797</td>\n",
       "      <td>0.045726</td>\n",
       "      <td>0.199204</td>\n",
       "    </tr>\n",
       "    <tr>\n",
       "      <th>OAS</th>\n",
       "      <td>0.201797</td>\n",
       "      <td>1.000000</td>\n",
       "      <td>0.735149</td>\n",
       "      <td>0.763483</td>\n",
       "    </tr>\n",
       "    <tr>\n",
       "      <th>Trl_12M_ER</th>\n",
       "      <td>0.045726</td>\n",
       "      <td>0.735149</td>\n",
       "      <td>1.000000</td>\n",
       "      <td>0.588560</td>\n",
       "    </tr>\n",
       "    <tr>\n",
       "      <th>WARF</th>\n",
       "      <td>0.199204</td>\n",
       "      <td>0.763483</td>\n",
       "      <td>0.588560</td>\n",
       "      <td>1.000000</td>\n",
       "    </tr>\n",
       "    <tr>\n",
       "      <th rowspan=\"4\" valign=\"top\">HY</th>\n",
       "      <th>ER_M</th>\n",
       "      <td>1.000000</td>\n",
       "      <td>0.128729</td>\n",
       "      <td>0.067229</td>\n",
       "      <td>0.209771</td>\n",
       "    </tr>\n",
       "    <tr>\n",
       "      <th>OAS</th>\n",
       "      <td>0.128729</td>\n",
       "      <td>1.000000</td>\n",
       "      <td>0.599478</td>\n",
       "      <td>0.305194</td>\n",
       "    </tr>\n",
       "    <tr>\n",
       "      <th>Trl_12M_ER</th>\n",
       "      <td>0.067229</td>\n",
       "      <td>0.599478</td>\n",
       "      <td>1.000000</td>\n",
       "      <td>0.389771</td>\n",
       "    </tr>\n",
       "    <tr>\n",
       "      <th>WARF</th>\n",
       "      <td>0.209771</td>\n",
       "      <td>0.305194</td>\n",
       "      <td>0.389771</td>\n",
       "      <td>1.000000</td>\n",
       "    </tr>\n",
       "  </tbody>\n",
       "</table>\n",
       "</div>"
      ],
      "text/plain": [
       "                      ER_M       OAS  Trl_12M_ER      WARF\n",
       "Class                                                     \n",
       "FA    ER_M        1.000000  0.201797    0.045726  0.199204\n",
       "      OAS         0.201797  1.000000    0.735149  0.763483\n",
       "      Trl_12M_ER  0.045726  0.735149    1.000000  0.588560\n",
       "      WARF        0.199204  0.763483    0.588560  1.000000\n",
       "HY    ER_M        1.000000  0.128729    0.067229  0.209771\n",
       "      OAS         0.128729  1.000000    0.599478  0.305194\n",
       "      Trl_12M_ER  0.067229  0.599478    1.000000  0.389771\n",
       "      WARF        0.209771  0.305194    0.389771  1.000000"
      ]
     },
     "execution_count": 201,
     "metadata": {},
     "output_type": "execute_result"
    }
   ],
   "source": [
    "df.groupby('Class').corr()"
   ]
  },
  {
   "cell_type": "code",
   "execution_count": 210,
   "metadata": {
    "collapsed": false
   },
   "outputs": [
    {
     "ename": "ValueError",
     "evalue": "shapes (438,2) and (438,2) not aligned: 2 (dim 1) != 438 (dim 0)",
     "output_type": "error",
     "traceback": [
      "\u001b[0;31m---------------------------------------------------------------------------\u001b[0m",
      "\u001b[0;31mValueError\u001b[0m                                Traceback (most recent call last)",
      "\u001b[0;32m<ipython-input-210-8356f199921b>\u001b[0m in \u001b[0;36m<module>\u001b[0;34m()\u001b[0m\n\u001b[1;32m      6\u001b[0m \u001b[1;33m\u001b[0m\u001b[0m\n\u001b[1;32m      7\u001b[0m \u001b[0mlm\u001b[0m \u001b[1;33m=\u001b[0m \u001b[0msmf\u001b[0m\u001b[1;33m.\u001b[0m\u001b[0mols\u001b[0m\u001b[1;33m(\u001b[0m\u001b[0mformula\u001b[0m\u001b[1;33m=\u001b[0m\u001b[1;34m'y ~ X'\u001b[0m\u001b[1;33m,\u001b[0m \u001b[0mdata\u001b[0m\u001b[1;33m=\u001b[0m\u001b[0mdf\u001b[0m\u001b[1;33m)\u001b[0m\u001b[1;33m.\u001b[0m\u001b[0mfit\u001b[0m\u001b[1;33m(\u001b[0m\u001b[1;33m)\u001b[0m\u001b[1;33m\u001b[0m\u001b[0m\n\u001b[0;32m----> 8\u001b[0;31m \u001b[0mlm\u001b[0m\u001b[1;33m.\u001b[0m\u001b[0msummary\u001b[0m\u001b[1;33m(\u001b[0m\u001b[1;33m)\u001b[0m\u001b[1;33m\u001b[0m\u001b[0m\n\u001b[0m",
      "\u001b[0;32mC:\\Users\\tlang\\AppData\\Local\\Continuum\\Anaconda2\\lib\\site-packages\\statsmodels\\regression\\linear_model.pyc\u001b[0m in \u001b[0;36msummary\u001b[0;34m(self, yname, xname, title, alpha)\u001b[0m\n\u001b[1;32m   1948\u001b[0m             \u001b[0mtop_left\u001b[0m\u001b[1;33m.\u001b[0m\u001b[0mappend\u001b[0m\u001b[1;33m(\u001b[0m\u001b[1;33m(\u001b[0m\u001b[1;34m'Covariance Type:'\u001b[0m\u001b[1;33m,\u001b[0m \u001b[1;33m[\u001b[0m\u001b[0mself\u001b[0m\u001b[1;33m.\u001b[0m\u001b[0mcov_type\u001b[0m\u001b[1;33m]\u001b[0m\u001b[1;33m)\u001b[0m\u001b[1;33m)\u001b[0m\u001b[1;33m\u001b[0m\u001b[0m\n\u001b[1;32m   1949\u001b[0m \u001b[1;33m\u001b[0m\u001b[0m\n\u001b[0;32m-> 1950\u001b[0;31m         top_right = [('R-squared:', [\"%#8.3f\" % self.rsquared]),\n\u001b[0m\u001b[1;32m   1951\u001b[0m                      \u001b[1;33m(\u001b[0m\u001b[1;34m'Adj. R-squared:'\u001b[0m\u001b[1;33m,\u001b[0m \u001b[1;33m[\u001b[0m\u001b[1;34m\"%#8.3f\"\u001b[0m \u001b[1;33m%\u001b[0m \u001b[0mself\u001b[0m\u001b[1;33m.\u001b[0m\u001b[0mrsquared_adj\u001b[0m\u001b[1;33m]\u001b[0m\u001b[1;33m)\u001b[0m\u001b[1;33m,\u001b[0m\u001b[1;33m\u001b[0m\u001b[0m\n\u001b[1;32m   1952\u001b[0m                      \u001b[1;33m(\u001b[0m\u001b[1;34m'F-statistic:'\u001b[0m\u001b[1;33m,\u001b[0m \u001b[1;33m[\u001b[0m\u001b[1;34m\"%#8.4g\"\u001b[0m \u001b[1;33m%\u001b[0m \u001b[0mself\u001b[0m\u001b[1;33m.\u001b[0m\u001b[0mfvalue\u001b[0m\u001b[1;33m]\u001b[0m \u001b[1;33m)\u001b[0m\u001b[1;33m,\u001b[0m\u001b[1;33m\u001b[0m\u001b[0m\n",
      "\u001b[0;32mC:\\Users\\tlang\\AppData\\Local\\Continuum\\Anaconda2\\lib\\site-packages\\statsmodels\\tools\\decorators.pyc\u001b[0m in \u001b[0;36m__get__\u001b[0;34m(self, obj, type)\u001b[0m\n\u001b[1;32m     92\u001b[0m         \u001b[1;32mif\u001b[0m \u001b[0m_cachedval\u001b[0m \u001b[1;32mis\u001b[0m \u001b[0mNone\u001b[0m\u001b[1;33m:\u001b[0m\u001b[1;33m\u001b[0m\u001b[0m\n\u001b[1;32m     93\u001b[0m             \u001b[1;31m# Call the \"fget\" function\u001b[0m\u001b[1;33m\u001b[0m\u001b[1;33m\u001b[0m\u001b[0m\n\u001b[0;32m---> 94\u001b[0;31m             \u001b[0m_cachedval\u001b[0m \u001b[1;33m=\u001b[0m \u001b[0mself\u001b[0m\u001b[1;33m.\u001b[0m\u001b[0mfget\u001b[0m\u001b[1;33m(\u001b[0m\u001b[0mobj\u001b[0m\u001b[1;33m)\u001b[0m\u001b[1;33m\u001b[0m\u001b[0m\n\u001b[0m\u001b[1;32m     95\u001b[0m             \u001b[1;31m# Set the attribute in obj\u001b[0m\u001b[1;33m\u001b[0m\u001b[1;33m\u001b[0m\u001b[0m\n\u001b[1;32m     96\u001b[0m \u001b[1;31m#            print(\"Setting %s in cache to %s\" % (name, _cachedval))\u001b[0m\u001b[1;33m\u001b[0m\u001b[1;33m\u001b[0m\u001b[0m\n",
      "\u001b[0;32mC:\\Users\\tlang\\AppData\\Local\\Continuum\\Anaconda2\\lib\\site-packages\\statsmodels\\regression\\linear_model.pyc\u001b[0m in \u001b[0;36mrsquared\u001b[0;34m(self)\u001b[0m\n\u001b[1;32m   1179\u001b[0m     \u001b[1;32mdef\u001b[0m \u001b[0mrsquared\u001b[0m\u001b[1;33m(\u001b[0m\u001b[0mself\u001b[0m\u001b[1;33m)\u001b[0m\u001b[1;33m:\u001b[0m\u001b[1;33m\u001b[0m\u001b[0m\n\u001b[1;32m   1180\u001b[0m         \u001b[1;32mif\u001b[0m \u001b[0mself\u001b[0m\u001b[1;33m.\u001b[0m\u001b[0mk_constant\u001b[0m\u001b[1;33m:\u001b[0m\u001b[1;33m\u001b[0m\u001b[0m\n\u001b[0;32m-> 1181\u001b[0;31m             \u001b[1;32mreturn\u001b[0m \u001b[1;36m1\u001b[0m \u001b[1;33m-\u001b[0m \u001b[0mself\u001b[0m\u001b[1;33m.\u001b[0m\u001b[0mssr\u001b[0m\u001b[1;33m/\u001b[0m\u001b[0mself\u001b[0m\u001b[1;33m.\u001b[0m\u001b[0mcentered_tss\u001b[0m\u001b[1;33m\u001b[0m\u001b[0m\n\u001b[0m\u001b[1;32m   1182\u001b[0m         \u001b[1;32melse\u001b[0m\u001b[1;33m:\u001b[0m\u001b[1;33m\u001b[0m\u001b[0m\n\u001b[1;32m   1183\u001b[0m             \u001b[1;32mreturn\u001b[0m \u001b[1;36m1\u001b[0m \u001b[1;33m-\u001b[0m \u001b[0mself\u001b[0m\u001b[1;33m.\u001b[0m\u001b[0mssr\u001b[0m\u001b[1;33m/\u001b[0m\u001b[0mself\u001b[0m\u001b[1;33m.\u001b[0m\u001b[0muncentered_tss\u001b[0m\u001b[1;33m\u001b[0m\u001b[0m\n",
      "\u001b[0;32mC:\\Users\\tlang\\AppData\\Local\\Continuum\\Anaconda2\\lib\\site-packages\\statsmodels\\tools\\decorators.pyc\u001b[0m in \u001b[0;36m__get__\u001b[0;34m(self, obj, type)\u001b[0m\n\u001b[1;32m     92\u001b[0m         \u001b[1;32mif\u001b[0m \u001b[0m_cachedval\u001b[0m \u001b[1;32mis\u001b[0m \u001b[0mNone\u001b[0m\u001b[1;33m:\u001b[0m\u001b[1;33m\u001b[0m\u001b[0m\n\u001b[1;32m     93\u001b[0m             \u001b[1;31m# Call the \"fget\" function\u001b[0m\u001b[1;33m\u001b[0m\u001b[1;33m\u001b[0m\u001b[0m\n\u001b[0;32m---> 94\u001b[0;31m             \u001b[0m_cachedval\u001b[0m \u001b[1;33m=\u001b[0m \u001b[0mself\u001b[0m\u001b[1;33m.\u001b[0m\u001b[0mfget\u001b[0m\u001b[1;33m(\u001b[0m\u001b[0mobj\u001b[0m\u001b[1;33m)\u001b[0m\u001b[1;33m\u001b[0m\u001b[0m\n\u001b[0m\u001b[1;32m     95\u001b[0m             \u001b[1;31m# Set the attribute in obj\u001b[0m\u001b[1;33m\u001b[0m\u001b[1;33m\u001b[0m\u001b[0m\n\u001b[1;32m     96\u001b[0m \u001b[1;31m#            print(\"Setting %s in cache to %s\" % (name, _cachedval))\u001b[0m\u001b[1;33m\u001b[0m\u001b[1;33m\u001b[0m\u001b[0m\n",
      "\u001b[0;32mC:\\Users\\tlang\\AppData\\Local\\Continuum\\Anaconda2\\lib\\site-packages\\statsmodels\\regression\\linear_model.pyc\u001b[0m in \u001b[0;36mssr\u001b[0;34m(self)\u001b[0m\n\u001b[1;32m   1151\u001b[0m     \u001b[1;32mdef\u001b[0m \u001b[0mssr\u001b[0m\u001b[1;33m(\u001b[0m\u001b[0mself\u001b[0m\u001b[1;33m)\u001b[0m\u001b[1;33m:\u001b[0m\u001b[1;33m\u001b[0m\u001b[0m\n\u001b[1;32m   1152\u001b[0m         \u001b[0mwresid\u001b[0m \u001b[1;33m=\u001b[0m \u001b[0mself\u001b[0m\u001b[1;33m.\u001b[0m\u001b[0mwresid\u001b[0m\u001b[1;33m\u001b[0m\u001b[0m\n\u001b[0;32m-> 1153\u001b[0;31m         \u001b[1;32mreturn\u001b[0m \u001b[0mnp\u001b[0m\u001b[1;33m.\u001b[0m\u001b[0mdot\u001b[0m\u001b[1;33m(\u001b[0m\u001b[0mwresid\u001b[0m\u001b[1;33m,\u001b[0m \u001b[0mwresid\u001b[0m\u001b[1;33m)\u001b[0m\u001b[1;33m\u001b[0m\u001b[0m\n\u001b[0m\u001b[1;32m   1154\u001b[0m \u001b[1;33m\u001b[0m\u001b[0m\n\u001b[1;32m   1155\u001b[0m     \u001b[1;33m@\u001b[0m\u001b[0mcache_readonly\u001b[0m\u001b[1;33m\u001b[0m\u001b[0m\n",
      "\u001b[0;31mValueError\u001b[0m: shapes (438,2) and (438,2) not aligned: 2 (dim 1) != 438 (dim 0)"
     ]
    }
   ],
   "source": [
    "import statsmodels.formula.api as smf\n",
    "\n",
    "X = df['Trl_12M_ER']\n",
    "y = df['Class']\n",
    "\n",
    "\n",
    "lm = smf.ols(formula='y ~ X', data=df).fit()\n",
    "lm.summary()"
   ]
  },
  {
   "cell_type": "code",
   "execution_count": null,
   "metadata": {
    "collapsed": true
   },
   "outputs": [],
   "source": []
  }
 ],
 "metadata": {
  "kernelspec": {
   "display_name": "Python 2",
   "language": "python",
   "name": "python2"
  },
  "language_info": {
   "codemirror_mode": {
    "name": "ipython",
    "version": 2
   },
   "file_extension": ".py",
   "mimetype": "text/x-python",
   "name": "python",
   "nbconvert_exporter": "python",
   "pygments_lexer": "ipython2",
   "version": "2.7.13"
  }
 },
 "nbformat": 4,
 "nbformat_minor": 2
}
